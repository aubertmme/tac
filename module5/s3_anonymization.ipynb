{
 "cells": [
  {
   "cell_type": "markdown",
   "metadata": {},
   "source": [
    "# Anonymisation de données"
   ]
  },
  {
   "cell_type": "markdown",
   "metadata": {},
   "source": [
    "## Imports"
   ]
  },
  {
   "cell_type": "code",
   "execution_count": 1,
   "metadata": {},
   "outputs": [],
   "source": [
    "from pprint import pprint\n",
    "from faker import Faker\n",
    "from faker.providers import internet"
   ]
  },
  {
   "cell_type": "markdown",
   "metadata": {},
   "source": [
    "\"Faker is a Python package that generates fake data for you. Whether you need to bootstrap your database, create good-looking XML documents, fill-in your persistence to stress test it, or anonymize data taken from a production service, Faker is for you.\"\n",
    "\n",
    "https://faker.readthedocs.io/en/master/"
   ]
  },
  {
   "cell_type": "markdown",
   "metadata": {},
   "source": [
    "\"Use `faker.Faker()` to create and initialize a faker generator, which can generate data by accessing properties named after the type of data you want.\""
   ]
  },
  {
   "cell_type": "code",
   "execution_count": 2,
   "metadata": {},
   "outputs": [],
   "source": [
    "fake = Faker()"
   ]
  },
  {
   "cell_type": "markdown",
   "metadata": {},
   "source": [
    "## Créer un faux nom"
   ]
  },
  {
   "cell_type": "code",
   "execution_count": 39,
   "metadata": {},
   "outputs": [
    {
     "name": "stdout",
     "output_type": "stream",
     "text": [
      "Doris Maddox\n"
     ]
    }
   ],
   "source": [
    "print(fake.name())"
   ]
  },
  {
   "cell_type": "code",
   "execution_count": 45,
   "metadata": {},
   "outputs": [
    {
     "name": "stdout",
     "output_type": "stream",
     "text": [
      "Valérie Pelletier\n",
      "Christiane Laporte\n",
      "Éric Maillet\n",
      "Yves Courtois Le Verdier\n",
      "Philippe Jacquet\n",
      "Odette Normand\n",
      "Bernard Michel\n",
      "Susan Marques\n",
      "Anne Guérin\n",
      "Luc François\n"
     ]
    }
   ],
   "source": [
    "# Il est possible de créer plusieurs faux noms, ici en français, avec une boucle.\n",
    "fake_fr = Faker('fr_FR')\n",
    "for _ in range(10):\n",
    "    print(fake_fr.name())"
   ]
  },
  {
   "cell_type": "code",
   "execution_count": 46,
   "metadata": {},
   "outputs": [
    {
     "name": "stdout",
     "output_type": "stream",
     "text": [
      "Boris van Nederlotharingen\n",
      "Imke Kerkhof\n",
      "Lily van Geffen\n",
      "Collin Roose-Lagerweij\n",
      "Fabian Adryaens\n",
      "Faye Aertsz-Vergeer\n",
      "Bas die Witte\n",
      "Elisabeth Verda\n",
      "Nisa Wildschut\n",
      "Maurits Lamore-Smith\n"
     ]
    }
   ],
   "source": [
    "# Même chose en néerlandais.\n",
    "fake_nl = Faker('nl_NL')\n",
    "for _ in range(10):\n",
    "    print(fake_nl.name())"
   ]
  },
  {
   "cell_type": "markdown",
   "metadata": {},
   "source": [
    "## Créer une fausse adresse"
   ]
  },
  {
   "cell_type": "code",
   "execution_count": 50,
   "metadata": {},
   "outputs": [
    {
     "name": "stdout",
     "output_type": "stream",
     "text": [
      "12, rue Éric De Sousa\n",
      "97401 Sainte Adrien-sur-Mer\n"
     ]
    }
   ],
   "source": [
    "# Pour créer une fausse adresse.\n",
    "print(fake_fr.address())"
   ]
  },
  {
   "cell_type": "markdown",
   "metadata": {},
   "source": [
    "## Créer une fausse adresse IP"
   ]
  },
  {
   "cell_type": "code",
   "execution_count": 54,
   "metadata": {},
   "outputs": [
    {
     "name": "stdout",
     "output_type": "stream",
     "text": [
      "28.109.172.255\n"
     ]
    }
   ],
   "source": [
    "fake.add_provider(internet)\n",
    "print(fake.ipv4_public())"
   ]
  },
  {
   "cell_type": "markdown",
   "metadata": {},
   "source": [
    "## Créer un faux profil complet"
   ]
  },
  {
   "cell_type": "code",
   "execution_count": 52,
   "metadata": {},
   "outputs": [
    {
     "name": "stdout",
     "output_type": "stream",
     "text": [
      "{'address': '6, rue Perez\\n63696 Sainte Alice',\n",
      " 'birthdate': datetime.date(1986, 12, 31),\n",
      " 'mail': 'ponschantal@dbmail.com',\n",
      " 'name': 'Émile Martin',\n",
      " 'sex': 'M',\n",
      " 'username': 'eugenethibault'}\n"
     ]
    }
   ],
   "source": [
    "profile = fake_fr.simple_profile()\n",
    "pprint(profile)"
   ]
  }
 ],
 "metadata": {
  "kernelspec": {
   "display_name": "Python 3.10.5 ('tac_venv': venv)",
   "language": "python",
   "name": "python3"
  },
  "language_info": {
   "codemirror_mode": {
    "name": "ipython",
    "version": 3
   },
   "file_extension": ".py",
   "mimetype": "text/x-python",
   "name": "python",
   "nbconvert_exporter": "python",
   "pygments_lexer": "ipython3",
   "version": "3.11.6"
  },
  "vscode": {
   "interpreter": {
    "hash": "b1932ab1d169b4769d1550e799423b6477588e745f266d79d9004c136c81607e"
   }
  }
 },
 "nbformat": 4,
 "nbformat_minor": 4
}
