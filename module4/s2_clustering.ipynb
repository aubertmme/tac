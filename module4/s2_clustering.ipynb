{
 "cells": [
  {
   "cell_type": "markdown",
   "metadata": {},
   "source": [
    "# Clustering de documents"
   ]
  },
  {
   "cell_type": "markdown",
   "metadata": {},
   "source": [
    "## Imports"
   ]
  },
  {
   "cell_type": "code",
   "execution_count": 1,
   "metadata": {},
   "outputs": [],
   "source": [
    "import collections\n",
    "import os\n",
    "import string\n",
    "import sys\n",
    "\n",
    "import pandas as pd\n",
    "from nltk import word_tokenize\n",
    "from nltk.corpus import stopwords\n",
    "from pprint import pprint\n",
    "from sklearn.cluster import KMeans\n",
    "from sklearn.feature_extraction.text import TfidfVectorizer\n",
    "from sklearn.decomposition import PCA\n",
    "import numpy as np\n",
    "import matplotlib.pyplot as plt\n",
    "from scipy.spatial.distance import cosine"
   ]
  },
  {
   "cell_type": "code",
   "execution_count": 2,
   "metadata": {},
   "outputs": [
    {
     "name": "stderr",
     "output_type": "stream",
     "text": [
      "[nltk_data] Downloading package punkt to\n",
      "[nltk_data]     C:\\Users\\mau\\AppData\\Roaming\\nltk_data...\n",
      "[nltk_data]   Package punkt is already up-to-date!\n"
     ]
    },
    {
     "data": {
      "text/plain": [
       "True"
      ]
     },
     "execution_count": 2,
     "metadata": {},
     "output_type": "execute_result"
    }
   ],
   "source": [
    "import nltk\n",
    "\n",
    "nltk.download('punkt')"
   ]
  },
  {
   "cell_type": "code",
   "execution_count": 9,
   "metadata": {},
   "outputs": [],
   "source": [
    "data_path = \"../data/txt/\""
   ]
  },
  {
   "cell_type": "markdown",
   "metadata": {},
   "source": [
    "## Choisir une décennie"
   ]
  },
  {
   "cell_type": "code",
   "execution_count": 10,
   "metadata": {},
   "outputs": [],
   "source": [
    "DECADE = '1950'"
   ]
  },
  {
   "cell_type": "markdown",
   "metadata": {},
   "source": [
    "## Charger tous les  fichiers de la décennie et en créer une liste de textes"
   ]
  },
  {
   "cell_type": "code",
   "execution_count": 11,
   "metadata": {},
   "outputs": [],
   "source": [
    "files = [f for f in sorted(os.listdir(data_path)) if f\"_{DECADE[:-1]}\" in f]"
   ]
  },
  {
   "cell_type": "code",
   "execution_count": 12,
   "metadata": {},
   "outputs": [
    {
     "data": {
      "text/plain": [
       "['KB_JB838_1950-01-06_01-00002.txt',\n",
       " 'KB_JB838_1950-01-07_01-00013.txt',\n",
       " 'KB_JB838_1950-01-10_01-00006.txt',\n",
       " 'KB_JB838_1950-01-15_01-00010.txt',\n",
       " 'KB_JB838_1950-01-22_01-00014.txt']"
      ]
     },
     "execution_count": 12,
     "metadata": {},
     "output_type": "execute_result"
    }
   ],
   "source": [
    "# Exemple de fichiers\n",
    "files[:5]"
   ]
  },
  {
   "cell_type": "code",
   "execution_count": 13,
   "metadata": {},
   "outputs": [],
   "source": [
    "texts = [open(data_path + f, \"r\", encoding=\"utf-8\").read() for f in files]"
   ]
  },
  {
   "cell_type": "code",
   "execution_count": 14,
   "metadata": {},
   "outputs": [
    {
     "data": {
      "text/plain": [
       "'/ LE SOIR Une importante manifestation franco-belge Le Comité franco-belge du Commerce, de l’Industrie et de l’Agriculture qui. au cours de l’année écoulée et dans les circonstances les plus difficiles a rendu aux relations économiques entre les deux pays des services considérables, donnera le 12 janvier, à 19 h. 30, un dîner à l’occasion de l’anniversaire de son installation. Ce comité, qui fonct'"
      ]
     },
     "execution_count": 14,
     "metadata": {},
     "output_type": "execute_result"
    }
   ],
   "source": [
    "# Exemple de textes\n",
    "texts[0][:400]"
   ]
  },
  {
   "cell_type": "markdown",
   "metadata": {},
   "source": [
    "## Vectoriser les documents à l'aide de TF-IDF"
   ]
  },
  {
   "cell_type": "code",
   "execution_count": 15,
   "metadata": {},
   "outputs": [],
   "source": [
    "# Création d'une fonction de pré-traitement\n",
    "def preprocessing(text, stem=True):\n",
    "    \"\"\" Tokenize text and remove punctuation \"\"\"\n",
    "    text = text.translate(string.punctuation)\n",
    "    tokens = word_tokenize(text)\n",
    "    return tokens"
   ]
  },
  {
   "cell_type": "markdown",
   "metadata": {},
   "source": [
    "### Instancier le modèle TF-IDF avec ses arguments"
   ]
  },
  {
   "cell_type": "code",
   "execution_count": 16,
   "metadata": {},
   "outputs": [],
   "source": [
    "vectorizer = TfidfVectorizer(\n",
    "    tokenizer=preprocessing,\n",
    "    stop_words=stopwords.words('french'),\n",
    "    max_df=0.5,\n",
    "    min_df=0.1,\n",
    "    lowercase=True)"
   ]
  },
  {
   "cell_type": "markdown",
   "metadata": {},
   "source": [
    "### Construire la matrice de vecteurs à l'aide de la fonction `fit_transform`"
   ]
  },
  {
   "cell_type": "code",
   "execution_count": 17,
   "metadata": {},
   "outputs": [
    {
     "name": "stderr",
     "output_type": "stream",
     "text": [
      "C:\\Users\\mau\\AppData\\Local\\Packages\\PythonSoftwareFoundation.Python.3.11_qbz5n2kfra8p0\\LocalCache\\local-packages\\Python311\\site-packages\\sklearn\\feature_extraction\\text.py:525: UserWarning: The parameter 'token_pattern' will not be used since 'tokenizer' is not None'\n",
      "  warnings.warn(\n"
     ]
    }
   ],
   "source": [
    "tfidf_vectors = vectorizer.fit_transform(texts)"
   ]
  },
  {
   "cell_type": "code",
   "execution_count": 18,
   "metadata": {},
   "outputs": [
    {
     "data": {
      "text/plain": [
       "<769x3502 sparse matrix of type '<class 'numpy.float64'>'\n",
       "\twith 538486 stored elements in Compressed Sparse Row format>"
      ]
     },
     "execution_count": 18,
     "metadata": {},
     "output_type": "execute_result"
    }
   ],
   "source": [
    "# Détail de la matrice\n",
    "tfidf_vectors"
   ]
  },
  {
   "cell_type": "markdown",
   "metadata": {},
   "source": [
    "### Imprimer le vecteur tf-IDF du premier document"
   ]
  },
  {
   "cell_type": "code",
   "execution_count": 19,
   "metadata": {},
   "outputs": [
    {
     "data": {
      "text/plain": [
       "parti           0.276413\n",
       "loyer           0.149925\n",
       "populaire       0.148451\n",
       "janvier         0.145410\n",
       "propriétaire    0.138764\n",
       "                  ...   \n",
       "entouré         0.000000\n",
       "entr            0.000000\n",
       "entreprise      0.000000\n",
       "entrer          0.000000\n",
       "jacobs          0.000000\n",
       "Length: 3502, dtype: float64"
      ]
     },
     "execution_count": 19,
     "metadata": {},
     "output_type": "execute_result"
    }
   ],
   "source": [
    "pd.Series(\n",
    "    tfidf_vectors[0].toarray()[0],\n",
    "    index=vectorizer.get_feature_names_out()\n",
    "    ).sort_values(ascending=False)"
   ]
  },
  {
   "cell_type": "markdown",
   "metadata": {},
   "source": [
    "## Comprendre les vecteurs et leurs \"distances\""
   ]
  },
  {
   "cell_type": "code",
   "execution_count": 20,
   "metadata": {},
   "outputs": [
    {
     "data": {
      "text/plain": [
       "0"
      ]
     },
     "execution_count": 20,
     "metadata": {},
     "output_type": "execute_result"
    }
   ],
   "source": [
    "cosine([1, 2, 3], [1, 2, 3])"
   ]
  },
  {
   "cell_type": "code",
   "execution_count": 21,
   "metadata": {},
   "outputs": [
    {
     "data": {
      "text/plain": [
       "0.02004211298777725"
      ]
     },
     "execution_count": 21,
     "metadata": {},
     "output_type": "execute_result"
    }
   ],
   "source": [
    "cosine([1, 2, 3], [1, 2, 2])"
   ]
  },
  {
   "cell_type": "code",
   "execution_count": 22,
   "metadata": {},
   "outputs": [
    {
     "data": {
      "text/plain": [
       "0.07417990022744858"
      ]
     },
     "execution_count": 22,
     "metadata": {},
     "output_type": "execute_result"
    }
   ],
   "source": [
    "cosine([1, 2, 3], [2, 2, 2])"
   ]
  },
  {
   "cell_type": "markdown",
   "metadata": {},
   "source": [
    "### Tests sur nos documents"
   ]
  },
  {
   "cell_type": "code",
   "execution_count": 23,
   "metadata": {},
   "outputs": [],
   "source": [
    "tfidf_array = tfidf_vectors.toarray()"
   ]
  },
  {
   "cell_type": "code",
   "execution_count": 24,
   "metadata": {},
   "outputs": [
    {
     "data": {
      "text/plain": [
       "array([0.        , 0.        , 0.        , ..., 0.        , 0.        ,\n",
       "       0.03654676])"
      ]
     },
     "execution_count": 24,
     "metadata": {},
     "output_type": "execute_result"
    }
   ],
   "source": [
    "# Vecteur du document 0\n",
    "tfidf_array[0]"
   ]
  },
  {
   "cell_type": "code",
   "execution_count": 25,
   "metadata": {},
   "outputs": [
    {
     "data": {
      "text/plain": [
       "array([0.        , 0.00661874, 0.        , ..., 0.        , 0.        ,\n",
       "       0.        ])"
      ]
     },
     "execution_count": 25,
     "metadata": {},
     "output_type": "execute_result"
    }
   ],
   "source": [
    "# Vecteur du document 1\n",
    "tfidf_array[1]"
   ]
  },
  {
   "cell_type": "code",
   "execution_count": 26,
   "metadata": {},
   "outputs": [
    {
     "data": {
      "text/plain": [
       "0.9291128184176948"
      ]
     },
     "execution_count": 26,
     "metadata": {},
     "output_type": "execute_result"
    }
   ],
   "source": [
    "cosine(tfidf_array[0], tfidf_array[1])"
   ]
  },
  {
   "cell_type": "markdown",
   "metadata": {},
   "source": [
    "## Appliquer un algorithme de clustering sur les vecteurs TF-IDF des documents"
   ]
  },
  {
   "cell_type": "markdown",
   "metadata": {},
   "source": [
    "Pour en savoir plus sur le KMeans clustering :\n",
    "- https://medium.com/dataseries/k-means-clustering-explained-visually-in-5-minutes-b900cc69d175"
   ]
  },
  {
   "cell_type": "markdown",
   "metadata": {},
   "source": [
    "### Définir un nombre de clusters"
   ]
  },
  {
   "cell_type": "code",
   "execution_count": 35,
   "metadata": {},
   "outputs": [],
   "source": [
    "N_CLUSTERS = 4"
   ]
  },
  {
   "cell_type": "markdown",
   "metadata": {},
   "source": [
    "### Instancier le modèle K-Means et ses arguments"
   ]
  },
  {
   "cell_type": "code",
   "execution_count": 36,
   "metadata": {},
   "outputs": [],
   "source": [
    "km_model = KMeans(n_clusters=N_CLUSTERS)"
   ]
  },
  {
   "cell_type": "markdown",
   "metadata": {},
   "source": [
    "### Appliquer le clustering à l'aide de la fonction `fit_predict`"
   ]
  },
  {
   "cell_type": "code",
   "execution_count": 37,
   "metadata": {},
   "outputs": [
    {
     "name": "stderr",
     "output_type": "stream",
     "text": [
      "C:\\Users\\mau\\AppData\\Local\\Packages\\PythonSoftwareFoundation.Python.3.11_qbz5n2kfra8p0\\LocalCache\\local-packages\\Python311\\site-packages\\sklearn\\cluster\\_kmeans.py:1416: FutureWarning: The default value of `n_init` will change from 10 to 'auto' in 1.4. Set the value of `n_init` explicitly to suppress the warning\n",
      "  super()._check_params_vs_input(X, default_n_init=10)\n"
     ]
    }
   ],
   "source": [
    "clusters = km_model.fit_predict(tfidf_vectors)"
   ]
  },
  {
   "cell_type": "code",
   "execution_count": 38,
   "metadata": {},
   "outputs": [],
   "source": [
    "clustering = collections.defaultdict(list)\n",
    "\n",
    "for idx, label in enumerate(clusters):\n",
    "    clustering[label].append(files[idx])"
   ]
  },
  {
   "cell_type": "code",
   "execution_count": 39,
   "metadata": {},
   "outputs": [
    {
     "name": "stdout",
     "output_type": "stream",
     "text": [
      "{0: ['KB_JB838_1950-01-06_01-00002.txt',\n",
      "     'KB_JB838_1950-01-10_01-00006.txt',\n",
      "     'KB_JB838_1950-01-15_01-00010.txt',\n",
      "     'KB_JB838_1950-02-13_01-00008.txt',\n",
      "     'KB_JB838_1950-02-17_01-00009.txt',\n",
      "     'KB_JB838_1950-02-18_01-00009.txt',\n",
      "     'KB_JB838_1950-02-25_01-00006.txt',\n",
      "     'KB_JB838_1950-03-01_01-00005.txt',\n",
      "     'KB_JB838_1950-03-11_01-00005.txt',\n",
      "     'KB_JB838_1950-03-19_01-00001.txt',\n",
      "     'KB_JB838_1950-03-25_01-00009.txt',\n",
      "     'KB_JB838_1950-03-29_01-00002.txt',\n",
      "     'KB_JB838_1950-03-31_01-00006.txt',\n",
      "     'KB_JB838_1950-04-19_01-00002.txt',\n",
      "     'KB_JB838_1950-04-26_01-00007.txt',\n",
      "     'KB_JB838_1950-05-03_01-00006.txt',\n",
      "     'KB_JB838_1950-05-07_01-00002.txt',\n",
      "     'KB_JB838_1950-05-16_01-00003.txt',\n",
      "     'KB_JB838_1950-05-29_01-00002.txt',\n",
      "     'KB_JB838_1950-06-04_01-00011.txt',\n",
      "     'KB_JB838_1950-06-10_01-00010.txt',\n",
      "     'KB_JB838_1950-06-17_01-00006.txt',\n",
      "     'KB_JB838_1950-06-29_01-00002.txt',\n",
      "     'KB_JB838_1950-07-02_01-00002.txt',\n",
      "     'KB_JB838_1950-07-24_01-00006.txt',\n",
      "     'KB_JB838_1950-07-27_01-00007.txt',\n",
      "     'KB_JB838_1950-08-09_01-00006.txt',\n",
      "     'KB_JB838_1950-09-04_01-00005.txt',\n",
      "     'KB_JB838_1950-09-04_01-00006.txt',\n",
      "     'KB_JB838_1950-09-17_01-00011.txt',\n",
      "     'KB_JB838_1950-10-01_01-00004.txt',\n",
      "     'KB_JB838_1950-10-09_01-00005.txt',\n",
      "     'KB_JB838_1950-10-16_01-00004.txt',\n",
      "     'KB_JB838_1950-10-17_01-00006.txt',\n",
      "     'KB_JB838_1950-10-28_01-00005.txt',\n",
      "     'KB_JB838_1950-10-29_01-00006.txt',\n",
      "     'KB_JB838_1950-11-14_01-00004.txt',\n",
      "     'KB_JB838_1950-12-16_01-00003.txt',\n",
      "     'KB_JB838_1950-12-17_01-00024.txt',\n",
      "     'KB_JB838_1950-12-29_01-00006.txt',\n",
      "     'KB_JB838_1951-01-06_01-00004.txt',\n",
      "     'KB_JB838_1951-01-07_01-00002.txt',\n",
      "     'KB_JB838_1951-01-17_01-00005.txt',\n",
      "     'KB_JB838_1951-01-26_01-00005.txt',\n",
      "     'KB_JB838_1951-01-28_01-00005.txt',\n",
      "     'KB_JB838_1951-02-06_01-00005.txt',\n",
      "     'KB_JB838_1951-02-16_01-00010.txt',\n",
      "     'KB_JB838_1951-03-06_01-00003.txt',\n",
      "     'KB_JB838_1951-03-16_01-00018.txt',\n",
      "     'KB_JB838_1951-03-17_01-00004.txt',\n",
      "     'KB_JB838_1951-03-28_01-00007.txt',\n",
      "     'KB_JB838_1951-03-31_01-00002.txt',\n",
      "     'KB_JB838_1951-04-09_01-00003.txt',\n",
      "     'KB_JB838_1951-04-13_01-00016.txt',\n",
      "     'KB_JB838_1951-04-29_01-00006.txt',\n",
      "     'KB_JB838_1951-04-29_01-00009.txt',\n",
      "     'KB_JB838_1951-05-01_01-00002.txt',\n",
      "     'KB_JB838_1951-05-05_01-00003.txt',\n",
      "     'KB_JB838_1951-05-10_01-00004.txt',\n",
      "     'KB_JB838_1951-05-16_01-00005.txt',\n",
      "     'KB_JB838_1951-05-25_01-00020.txt',\n",
      "     'KB_JB838_1951-05-26_01-00014.txt',\n",
      "     'KB_JB838_1951-06-05_01-00003.txt',\n",
      "     'KB_JB838_1951-06-08_01-00001.txt',\n",
      "     'KB_JB838_1951-06-10_01-00006.txt',\n",
      "     'KB_JB838_1951-06-13_01-00002.txt',\n",
      "     'KB_JB838_1951-06-17_01-00012.txt',\n",
      "     'KB_JB838_1951-07-07_01-00008.txt',\n",
      "     'KB_JB838_1951-07-20_01-00002.txt',\n",
      "     'KB_JB838_1951-08-09_01-00006.txt',\n",
      "     'KB_JB838_1951-08-14_01-00006.txt',\n",
      "     'KB_JB838_1951-08-27_01-00004.txt',\n",
      "     'KB_JB838_1951-09-03_01-00006.txt',\n",
      "     'KB_JB838_1951-09-04_01-00002.txt',\n",
      "     'KB_JB838_1951-10-23_01-00008.txt',\n",
      "     'KB_JB838_1951-10-25_01-00004.txt',\n",
      "     'KB_JB838_1951-10-29_01-00004.txt',\n",
      "     'KB_JB838_1951-11-03_01-00020.txt',\n",
      "     'KB_JB838_1951-11-05_01-00006.txt',\n",
      "     'KB_JB838_1951-11-19_01-00007.txt',\n",
      "     'KB_JB838_1951-11-20_01-00001.txt',\n",
      "     'KB_JB838_1951-11-25_01-00011.txt',\n",
      "     'KB_JB838_1951-11-28_01-00003.txt',\n",
      "     'KB_JB838_1951-12-09_01-00005.txt',\n",
      "     'KB_JB838_1951-12-27_01-00002.txt',\n",
      "     'KB_JB838_1951-12-30_01-00003.txt',\n",
      "     'KB_JB838_1952-01-04_01-00008.txt',\n",
      "     'KB_JB838_1952-01-13_01-00002.txt',\n",
      "     'KB_JB838_1952-01-23_01-00007.txt',\n",
      "     'KB_JB838_1952-01-31_01-00007.txt',\n",
      "     'KB_JB838_1952-02-04_01-00001.txt',\n",
      "     'KB_JB838_1952-02-04_01-00005.txt',\n",
      "     'KB_JB838_1952-02-14_01-00006.txt',\n",
      "     'KB_JB838_1952-02-22_01-00004.txt',\n",
      "     'KB_JB838_1952-03-01_01-00009.txt',\n",
      "     'KB_JB838_1952-03-03_01-00002.txt',\n",
      "     'KB_JB838_1952-03-10_01-00001.txt',\n",
      "     'KB_JB838_1952-03-14_01-00007.txt',\n",
      "     'KB_JB838_1952-03-16_01-00013.txt',\n",
      "     'KB_JB838_1952-03-20_01-00001.txt',\n",
      "     'KB_JB838_1952-03-23_01-00011.txt',\n",
      "     'KB_JB838_1952-04-02_01-00006.txt',\n",
      "     'KB_JB838_1952-04-25_01-00002.txt',\n",
      "     'KB_JB838_1952-05-04_01-00001.txt',\n",
      "     'KB_JB838_1952-05-07_01-00004.txt',\n",
      "     'KB_JB838_1952-05-10_01-00007.txt',\n",
      "     'KB_JB838_1952-05-23_01-00005.txt',\n",
      "     'KB_JB838_1952-05-25_01-00003.txt',\n",
      "     'KB_JB838_1952-05-29_01-00006.txt',\n",
      "     'KB_JB838_1952-06-07_01-00003.txt',\n",
      "     'KB_JB838_1952-06-09_01-00003.txt',\n",
      "     'KB_JB838_1952-06-12_01-00005.txt',\n",
      "     'KB_JB838_1952-06-19_01-00003.txt',\n",
      "     'KB_JB838_1952-06-25_01-00002.txt',\n",
      "     'KB_JB838_1952-06-30_01-00006.txt',\n",
      "     'KB_JB838_1952-07-03_01-00005.txt',\n",
      "     'KB_JB838_1952-07-29_01-00003.txt',\n",
      "     'KB_JB838_1952-09-14_01-00013.txt',\n",
      "     'KB_JB838_1952-09-28_01-00007.txt',\n",
      "     'KB_JB838_1952-09-28_01-00012.txt',\n",
      "     'KB_JB838_1952-10-05_01-00012.txt',\n",
      "     'KB_JB838_1952-10-11_01-00003.txt',\n",
      "     'KB_JB838_1952-10-19_01-00009.txt',\n",
      "     'KB_JB838_1952-11-01_01-00004.txt',\n",
      "     'KB_JB838_1952-11-05_01-00016.txt',\n",
      "     'KB_JB838_1952-11-15_01-00009.txt',\n",
      "     'KB_JB838_1952-11-16_01-00014.txt',\n",
      "     'KB_JB838_1952-11-22_01-00001.txt',\n",
      "     'KB_JB838_1952-11-30_01-00006.txt',\n",
      "     'KB_JB838_1952-12-17_01-00008.txt',\n",
      "     'KB_JB838_1952-12-18_01-00005.txt',\n",
      "     'KB_JB838_1952-12-19_01-00001.txt',\n",
      "     'KB_JB838_1952-12-24_01-00007.txt',\n",
      "     'KB_JB838_1952-12-24_01-00008.txt',\n",
      "     'KB_JB838_1953-01-03_01-00011.txt',\n",
      "     'KB_JB838_1953-01-18_01-00023.txt',\n",
      "     'KB_JB838_1953-02-02_01-00003.txt',\n",
      "     'KB_JB838_1953-02-12_01-00001.txt',\n",
      "     'KB_JB838_1953-02-14_01-00007.txt',\n",
      "     'KB_JB838_1953-02-17_01-00009.txt',\n",
      "     'KB_JB838_1953-02-24_01-00002.txt',\n",
      "     'KB_JB838_1953-03-08_01-00001.txt',\n",
      "     'KB_JB838_1953-03-30_01-00001.txt',\n",
      "     'KB_JB838_1953-03-30_01-00002.txt',\n",
      "     'KB_JB838_1953-04-04_01-00008.txt',\n",
      "     'KB_JB838_1953-04-05_01-00009.txt',\n",
      "     'KB_JB838_1953-04-23_01-00005.txt',\n",
      "     'KB_JB838_1953-04-25_01-00001.txt',\n",
      "     'KB_JB838_1953-04-30_01-00004.txt',\n",
      "     'KB_JB838_1953-05-03_01-00013.txt',\n",
      "     'KB_JB838_1953-05-30_01-00005.txt',\n",
      "     'KB_JB838_1953-06-08_01-00007.txt',\n",
      "     'KB_JB838_1953-06-09_01-00006.txt',\n",
      "     'KB_JB838_1953-06-18_01-00001.txt',\n",
      "     'KB_JB838_1953-06-18_01-00008.txt',\n",
      "     'KB_JB838_1953-06-24_01-00006.txt',\n",
      "     'KB_JB838_1953-06-29_01-00002.txt',\n",
      "     'KB_JB838_1953-07-09_01-00002.txt',\n",
      "     'KB_JB838_1953-07-26_01-00001.txt',\n",
      "     'KB_JB838_1953-08-10_01-00006.txt',\n",
      "     'KB_JB838_1953-08-14_01-00009.txt',\n",
      "     'KB_JB838_1953-08-29_01-00002.txt',\n",
      "     'KB_JB838_1953-09-07_01-00003.txt',\n",
      "     'KB_JB838_1953-09-20_01-00002.txt',\n",
      "     'KB_JB838_1953-10-07_01-00008.txt',\n",
      "     'KB_JB838_1953-10-10_01-00006.txt',\n",
      "     'KB_JB838_1953-10-19_01-00010.txt',\n",
      "     'KB_JB838_1953-10-30_01-00005.txt',\n",
      "     'KB_JB838_1953-11-01_01-00013.txt',\n",
      "     'KB_JB838_1953-11-03_01-00002.txt',\n",
      "     'KB_JB838_1953-11-06_01-00004.txt',\n",
      "     'KB_JB838_1953-11-08_01-00007.txt',\n",
      "     'KB_JB838_1953-11-13_01-00003.txt',\n",
      "     'KB_JB838_1953-11-14_01-00008.txt',\n",
      "     'KB_JB838_1953-11-18_01-00001.txt',\n",
      "     'KB_JB838_1953-11-28_01-00004.txt',\n",
      "     'KB_JB838_1953-12-03_01-00002.txt',\n",
      "     'KB_JB838_1953-12-03_01-00004.txt',\n",
      "     'KB_JB838_1953-12-11_01-00008.txt',\n",
      "     'KB_JB838_1953-12-12_01-00003.txt',\n",
      "     'KB_JB838_1953-12-12_01-00007.txt',\n",
      "     'KB_JB838_1954-01-03_01-00005.txt',\n",
      "     'KB_JB838_1954-01-04_01-00005.txt',\n",
      "     'KB_JB838_1954-01-20_01-00005.txt',\n",
      "     'KB_JB838_1954-02-09_01-00006.txt',\n",
      "     'KB_JB838_1954-02-12_01-00001.txt',\n",
      "     'KB_JB838_1954-02-18_01-00006.txt',\n",
      "     'KB_JB838_1954-02-22_01-00007.txt',\n",
      "     'KB_JB838_1954-02-24_01-00007.txt',\n",
      "     'KB_JB838_1954-02-28_01-00004.txt',\n",
      "     'KB_JB838_1954-03-06_01-00009.txt',\n",
      "     'KB_JB838_1954-03-10_01-00009.txt',\n",
      "     'KB_JB838_1954-03-17_01-00001.txt',\n",
      "     'KB_JB838_1954-03-25_01-00002.txt',\n",
      "     'KB_JB838_1954-03-28_01-00010.txt',\n",
      "     'KB_JB838_1954-04-01_01-00002.txt',\n",
      "     'KB_JB838_1954-04-14_01-00003.txt',\n",
      "     'KB_JB838_1954-04-16_01-00005.txt',\n",
      "     'KB_JB838_1954-04-24_01-00012.txt',\n",
      "     'KB_JB838_1954-04-25_01-00011.txt',\n",
      "     'KB_JB838_1954-04-28_01-00005.txt',\n",
      "     'KB_JB838_1954-05-01_01-00012.txt',\n",
      "     'KB_JB838_1954-05-13_01-00008.txt',\n",
      "     'KB_JB838_1954-05-17_01-00002.txt',\n",
      "     'KB_JB838_1954-05-29_01-00013.txt',\n",
      "     'KB_JB838_1954-06-03_01-00006.txt',\n",
      "     'KB_JB838_1954-06-10_01-00006.txt',\n",
      "     'KB_JB838_1954-06-14_01-00008.txt',\n",
      "     'KB_JB838_1954-06-20_01-00005.txt',\n",
      "     'KB_JB838_1954-06-22_01-00001.txt',\n",
      "     'KB_JB838_1954-07-03_01-00007.txt',\n",
      "     'KB_JB838_1954-07-10_01-00005.txt',\n",
      "     'KB_JB838_1954-09-02_01-00004.txt',\n",
      "     'KB_JB838_1954-09-11_01-00004.txt',\n",
      "     'KB_JB838_1954-09-19_01-00001.txt',\n",
      "     'KB_JB838_1954-09-19_01-00002.txt',\n",
      "     'KB_JB838_1954-10-06_01-00001.txt',\n",
      "     'KB_JB838_1954-10-09_01-00003.txt',\n",
      "     'KB_JB838_1954-10-10_01-00013.txt',\n",
      "     'KB_JB838_1954-10-13_01-00020.txt',\n",
      "     'KB_JB838_1954-10-22_01-00006.txt',\n",
      "     'KB_JB838_1954-10-27_01-00004.txt',\n",
      "     'KB_JB838_1954-11-08_01-00009.txt',\n",
      "     'KB_JB838_1954-11-20_01-00001.txt',\n",
      "     'KB_JB838_1954-11-21_01-00024.txt',\n",
      "     'KB_JB838_1954-11-24_01-00009.txt',\n",
      "     'KB_JB838_1955-01-01_01-00001.txt',\n",
      "     'KB_JB838_1955-01-23_01-00002.txt',\n",
      "     'KB_JB838_1955-01-25_01-00001.txt',\n",
      "     'KB_JB838_1955-01-25_01-00005.txt',\n",
      "     'KB_JB838_1955-02-22_01-00009.txt',\n",
      "     'KB_JB838_1955-03-06_01-00011.txt',\n",
      "     'KB_JB838_1955-03-15_01-00003.txt',\n",
      "     'KB_JB838_1955-03-16_01-00005.txt',\n",
      "     'KB_JB838_1955-03-20_01-00006.txt',\n",
      "     'KB_JB838_1955-03-21_01-00007.txt',\n",
      "     'KB_JB838_1955-03-29_01-00005.txt',\n",
      "     'KB_JB838_1955-04-03_01-00007.txt',\n",
      "     'KB_JB838_1955-04-07_01-00008.txt',\n",
      "     'KB_JB838_1955-04-07_01-00014.txt',\n",
      "     'KB_JB838_1955-04-13_01-00008.txt',\n",
      "     'KB_JB838_1955-04-15_01-00003.txt',\n",
      "     'KB_JB838_1955-05-09_01-00003.txt',\n",
      "     'KB_JB838_1955-05-12_01-00008.txt',\n",
      "     'KB_JB838_1955-05-17_01-00004.txt',\n",
      "     'KB_JB838_1955-05-22_01-00007.txt',\n",
      "     'KB_JB838_1955-06-11_01-00024.txt',\n",
      "     'KB_JB838_1955-06-23_01-00006.txt',\n",
      "     'KB_JB838_1955-06-23_01-00007.txt',\n",
      "     'KB_JB838_1955-06-30_01-00003.txt',\n",
      "     'KB_JB838_1955-07-05_01-00001.txt',\n",
      "     'KB_JB838_1955-07-15_01-00001.txt',\n",
      "     'KB_JB838_1955-07-16_01-00010.txt',\n",
      "     'KB_JB838_1955-07-23_01-00007.txt',\n",
      "     'KB_JB838_1955-08-25_01-00002.txt',\n",
      "     'KB_JB838_1955-08-27_01-00008.txt',\n",
      "     'KB_JB838_1955-09-04_01-00011.txt',\n",
      "     'KB_JB838_1955-09-18_01-00024.txt',\n",
      "     'KB_JB838_1955-09-26_01-00010.txt',\n",
      "     'KB_JB838_1955-09-30_01-00006.txt',\n",
      "     'KB_JB838_1955-10-03_01-00006.txt',\n",
      "     'KB_JB838_1955-10-11_01-00008.txt',\n",
      "     'KB_JB838_1955-11-05_01-00024.txt',\n",
      "     'KB_JB838_1955-11-06_01-00002.txt',\n",
      "     'KB_JB838_1955-11-08_01-00003.txt',\n",
      "     'KB_JB838_1955-11-10_01-00002.txt',\n",
      "     'KB_JB838_1955-11-21_01-00013.txt',\n",
      "     'KB_JB838_1955-11-23_01-00007.txt',\n",
      "     'KB_JB838_1955-11-25_01-00011.txt',\n",
      "     'KB_JB838_1955-11-30_01-00009.txt',\n",
      "     'KB_JB838_1955-12-07_01-00003.txt',\n",
      "     'KB_JB838_1955-12-10_01-00024.txt',\n",
      "     'KB_JB838_1955-12-21_01-00011.txt',\n",
      "     'KB_JB838_1955-12-22_01-00004.txt',\n",
      "     'KB_JB838_1956-01-22_01-00013.txt',\n",
      "     'KB_JB838_1956-01-31_01-00007.txt',\n",
      "     'KB_JB838_1956-02-15_01-00007.txt',\n",
      "     'KB_JB838_1956-02-19_01-00001.txt',\n",
      "     'KB_JB838_1956-02-21_01-00014.txt',\n",
      "     'KB_JB838_1956-02-22_01-00010.txt',\n",
      "     'KB_JB838_1956-02-25_01-00018.txt',\n",
      "     'KB_JB838_1956-02-27_01-00004.txt',\n",
      "     'KB_JB838_1956-02-29_01-00004.txt',\n",
      "     'KB_JB838_1956-02-29_01-00008.txt',\n",
      "     'KB_JB838_1956-03-20_01-00008.txt',\n",
      "     'KB_JB838_1956-03-20_01-00009.txt',\n",
      "     'KB_JB838_1956-03-21_01-00010.txt',\n",
      "     'KB_JB838_1956-03-27_01-00008.txt',\n",
      "     'KB_JB838_1956-03-31_01-00003.txt',\n",
      "     'KB_JB838_1956-05-06_01-00012.txt',\n",
      "     'KB_JB838_1956-05-07_01-00009.txt',\n",
      "     'KB_JB838_1956-05-08_01-00007.txt',\n",
      "     'KB_JB838_1956-05-12_01-00009.txt',\n",
      "     'KB_JB838_1956-05-18_01-00004.txt',\n",
      "     'KB_JB838_1956-06-02_01-00002.txt',\n",
      "     'KB_JB838_1956-06-02_01-00008.txt',\n",
      "     'KB_JB838_1956-06-04_01-00006.txt',\n",
      "     'KB_JB838_1956-06-30_01-00005.txt',\n",
      "     'KB_JB838_1956-07-08_01-00011.txt',\n",
      "     'KB_JB838_1956-07-12_01-00010.txt',\n",
      "     'KB_JB838_1956-08-10_01-00010.txt',\n",
      "     'KB_JB838_1956-08-14_01-00001.txt',\n",
      "     'KB_JB838_1956-08-19_01-00012.txt',\n",
      "     'KB_JB838_1956-08-23_01-00012.txt',\n",
      "     'KB_JB838_1956-08-24_01-00004.txt',\n",
      "     'KB_JB838_1956-08-24_01-00008.txt',\n",
      "     'KB_JB838_1956-08-24_01-00010.txt',\n",
      "     'KB_JB838_1956-09-20_01-00010.txt',\n",
      "     'KB_JB838_1956-10-03_01-00010.txt',\n",
      "     'KB_JB838_1956-10-07_01-00011.txt',\n",
      "     'KB_JB838_1956-10-10_01-00009.txt',\n",
      "     'KB_JB838_1956-10-19_01-00004.txt',\n",
      "     'KB_JB838_1956-10-21_01-00012.txt',\n",
      "     'KB_JB838_1956-10-28_01-00011.txt',\n",
      "     'KB_JB838_1956-11-06_01-00005.txt',\n",
      "     'KB_JB838_1956-11-11_01-00009.txt',\n",
      "     'KB_JB838_1956-12-07_01-00007.txt',\n",
      "     'KB_JB838_1956-12-07_01-00013.txt',\n",
      "     'KB_JB838_1956-12-11_01-00006.txt',\n",
      "     'KB_JB838_1956-12-11_01-00007.txt',\n",
      "     'KB_JB838_1956-12-20_01-00006.txt',\n",
      "     'KB_JB838_1956-12-27_01-00010.txt',\n",
      "     'KB_JB838_1957-01-04_01-00012.txt',\n",
      "     'KB_JB838_1957-01-20_01-00005.txt',\n",
      "     'KB_JB838_1957-01-21_01-00009.txt',\n",
      "     'KB_JB838_1957-01-27_01-00011.txt',\n",
      "     'KB_JB838_1957-02-09_01-00005.txt',\n",
      "     'KB_JB838_1957-02-11_01-00009.txt',\n",
      "     'KB_JB838_1957-02-19_01-00016.txt',\n",
      "     'KB_JB838_1957-03-09_01-00006.txt',\n",
      "     'KB_JB838_1957-03-11_01-00001.txt',\n",
      "     'KB_JB838_1957-03-13_01-00003.txt',\n",
      "     'KB_JB838_1957-03-22_01-00009.txt',\n",
      "     'KB_JB838_1957-03-24_01-00004.txt',\n",
      "     'KB_JB838_1957-04-03_01-00010.txt',\n",
      "     'KB_JB838_1957-04-08_01-00003.txt',\n",
      "     'KB_JB838_1957-04-10_01-00011.txt',\n",
      "     'KB_JB838_1957-04-11_01-00011.txt',\n",
      "     'KB_JB838_1957-04-15_01-00002.txt',\n",
      "     'KB_JB838_1957-04-15_01-00003.txt',\n",
      "     'KB_JB838_1957-04-16_01-00010.txt',\n",
      "     'KB_JB838_1957-04-20_01-00005.txt',\n",
      "     'KB_JB838_1957-04-21_01-00003.txt',\n",
      "     'KB_JB838_1957-04-22_01-00008.txt',\n",
      "     'KB_JB838_1957-04-24_01-00009.txt',\n",
      "     'KB_JB838_1957-04-26_01-00008.txt',\n",
      "     'KB_JB838_1957-04-28_01-00001.txt',\n",
      "     'KB_JB838_1957-05-08_01-00005.txt',\n",
      "     'KB_JB838_1957-05-08_01-00009.txt',\n",
      "     'KB_JB838_1957-05-09_01-00002.txt',\n",
      "     'KB_JB838_1957-05-18_01-00005.txt',\n",
      "     'KB_JB838_1957-05-25_01-00007.txt',\n",
      "     'KB_JB838_1957-06-01_01-00004.txt',\n",
      "     'KB_JB838_1957-06-15_01-00005.txt',\n",
      "     'KB_JB838_1957-08-05_01-00005.txt',\n",
      "     'KB_JB838_1957-08-05_01-00008.txt',\n",
      "     'KB_JB838_1957-08-11_01-00007.txt',\n",
      "     'KB_JB838_1957-08-20_01-00005.txt',\n",
      "     'KB_JB838_1957-08-22_01-00007.txt',\n",
      "     'KB_JB838_1957-08-30_01-00018.txt',\n",
      "     'KB_JB838_1957-09-05_01-00008.txt',\n",
      "     'KB_JB838_1957-09-13_01-00007.txt',\n",
      "     'KB_JB838_1957-09-19_01-00009.txt',\n",
      "     'KB_JB838_1957-09-29_01-00014.txt',\n",
      "     'KB_JB838_1957-10-03_01-00005.txt',\n",
      "     'KB_JB838_1957-10-06_01-00008.txt',\n",
      "     'KB_JB838_1957-10-07_01-00006.txt',\n",
      "     'KB_JB838_1957-10-09_01-00002.txt',\n",
      "     'KB_JB838_1957-10-15_01-00018.txt',\n",
      "     'KB_JB838_1957-10-19_01-00003.txt',\n",
      "     'KB_JB838_1957-10-25_01-00006.txt',\n",
      "     'KB_JB838_1957-10-31_01-00001.txt',\n",
      "     'KB_JB838_1957-10-31_01-00003.txt',\n",
      "     'KB_JB838_1957-11-03_01-00005.txt',\n",
      "     'KB_JB838_1957-11-12_01-00009.txt',\n",
      "     'KB_JB838_1957-11-14_01-00011.txt',\n",
      "     'KB_JB838_1957-11-20_01-00005.txt',\n",
      "     'KB_JB838_1957-11-25_01-00008.txt',\n",
      "     'KB_JB838_1957-11-26_01-00007.txt',\n",
      "     'KB_JB838_1957-11-27_01-00002.txt',\n",
      "     'KB_JB838_1957-12-05_01-00009.txt',\n",
      "     'KB_JB838_1957-12-13_01-00008.txt',\n",
      "     'KB_JB838_1957-12-15_01-00011.txt',\n",
      "     'KB_JB838_1957-12-29_01-00010.txt',\n",
      "     'KB_JB838_1958-01-24_01-00014.txt',\n",
      "     'KB_JB838_1958-02-26_01-00003.txt',\n",
      "     'KB_JB838_1958-02-27_01-00011.txt',\n",
      "     'KB_JB838_1958-03-25_01-00006.txt',\n",
      "     'KB_JB838_1958-03-29_01-00011.txt',\n",
      "     'KB_JB838_1958-04-12_01-00008.txt',\n",
      "     'KB_JB838_1958-04-14_01-00004.txt',\n",
      "     'KB_JB838_1958-05-02_01-00003.txt',\n",
      "     'KB_JB838_1958-05-10_01-00011.txt',\n",
      "     'KB_JB838_1958-05-14_01-00002.txt',\n",
      "     'KB_JB838_1958-05-24_01-00004.txt',\n",
      "     'KB_JB838_1958-05-24_01-00008.txt',\n",
      "     'KB_JB838_1958-06-18_01-00003.txt',\n",
      "     'KB_JB838_1958-06-25_01-00012.txt',\n",
      "     'KB_JB838_1958-06-28_01-00004.txt',\n",
      "     'KB_JB838_1958-06-28_01-00009.txt',\n",
      "     'KB_JB838_1958-07-03_01-00006.txt',\n",
      "     'KB_JB838_1958-07-04_01-00002.txt',\n",
      "     'KB_JB838_1958-07-04_01-00007.txt',\n",
      "     'KB_JB838_1958-07-28_01-00005.txt',\n",
      "     'KB_JB838_1958-08-01_01-00004.txt',\n",
      "     'KB_JB838_1958-08-04_01-00008.txt',\n",
      "     'KB_JB838_1958-08-16_01-00005.txt',\n",
      "     'KB_JB838_1958-08-24_01-00009.txt',\n",
      "     'KB_JB838_1958-08-30_01-00003.txt',\n",
      "     'KB_JB838_1958-09-06_01-00017.txt',\n",
      "     'KB_JB838_1958-09-13_01-00001.txt',\n",
      "     'KB_JB838_1958-09-18_01-00006.txt',\n",
      "     'KB_JB838_1958-10-07_01-00007.txt',\n",
      "     'KB_JB838_1958-10-10_01-00007.txt',\n",
      "     'KB_JB838_1958-10-20_01-00005.txt',\n",
      "     'KB_JB838_1958-11-22_01-00002.txt',\n",
      "     'KB_JB838_1958-11-23_01-00014.txt',\n",
      "     'KB_JB838_1958-11-25_01-00005.txt',\n",
      "     'KB_JB838_1958-11-25_01-00011.txt',\n",
      "     'KB_JB838_1958-11-30_01-00007.txt',\n",
      "     'KB_JB838_1958-12-03_01-00011.txt',\n",
      "     'KB_JB838_1958-12-06_01-00002.txt',\n",
      "     'KB_JB838_1958-12-13_01-00019.txt',\n",
      "     'KB_JB838_1958-12-14_01-00006.txt',\n",
      "     'KB_JB838_1959-01-04_01-00003.txt',\n",
      "     'KB_JB838_1959-01-07_01-00006.txt',\n",
      "     'KB_JB838_1959-01-14_01-00009.txt',\n",
      "     'KB_JB838_1959-02-01_01-00013.txt',\n",
      "     'KB_JB838_1959-02-03_01-00006.txt',\n",
      "     'KB_JB838_1959-02-05_01-00004.txt',\n",
      "     'KB_JB838_1959-02-08_01-00004.txt',\n",
      "     'KB_JB838_1959-02-20_01-00003.txt',\n",
      "     'KB_JB838_1959-02-20_01-00005.txt',\n",
      "     'KB_JB838_1959-03-03_01-00014.txt',\n",
      "     'KB_JB838_1959-03-07_01-00010.txt',\n",
      "     'KB_JB838_1959-03-13_01-00001.txt',\n",
      "     'KB_JB838_1959-03-13_01-00005.txt',\n",
      "     'KB_JB838_1959-03-15_01-00007.txt',\n",
      "     'KB_JB838_1959-03-26_01-00012.txt',\n",
      "     'KB_JB838_1959-03-28_01-00009.txt',\n",
      "     'KB_JB838_1959-04-09_01-00005.txt',\n",
      "     'KB_JB838_1959-04-23_01-00014.txt',\n",
      "     'KB_JB838_1959-04-24_01-00002.txt',\n",
      "     'KB_JB838_1959-04-25_01-00001.txt',\n",
      "     'KB_JB838_1959-04-29_01-00005.txt',\n",
      "     'KB_JB838_1959-05-09_01-00001.txt',\n",
      "     'KB_JB838_1959-05-16_01-00010.txt',\n",
      "     'KB_JB838_1959-05-28_01-00001.txt',\n",
      "     'KB_JB838_1959-06-04_01-00010.txt',\n",
      "     'KB_JB838_1959-06-30_01-00001.txt',\n",
      "     'KB_JB838_1959-07-01_01-00009.txt',\n",
      "     'KB_JB838_1959-07-02_01-00001.txt',\n",
      "     'KB_JB838_1959-07-21_01-00011.txt',\n",
      "     'KB_JB838_1959-07-26_01-00013.txt',\n",
      "     'KB_JB838_1959-07-31_01-00004.txt',\n",
      "     'KB_JB838_1959-08-04_01-00003.txt',\n",
      "     'KB_JB838_1959-09-29_01-00008.txt',\n",
      "     'KB_JB838_1959-10-06_01-00003.txt',\n",
      "     'KB_JB838_1959-10-22_01-00014.txt',\n",
      "     'KB_JB838_1959-10-27_01-00007.txt',\n",
      "     'KB_JB838_1959-10-29_01-00012.txt',\n",
      "     'KB_JB838_1959-11-04_01-00010.txt',\n",
      "     'KB_JB838_1959-11-07_01-00010.txt',\n",
      "     'KB_JB838_1959-11-11_01-00011.txt',\n",
      "     'KB_JB838_1959-11-15_01-00002.txt',\n",
      "     'KB_JB838_1959-11-22_01-00002.txt',\n",
      "     'KB_JB838_1959-11-22_01-00004.txt',\n",
      "     'KB_JB838_1959-11-24_01-00006.txt',\n",
      "     'KB_JB838_1959-12-06_01-00008.txt',\n",
      "     'KB_JB838_1959-12-09_01-00002.txt',\n",
      "     'KB_JB838_1959-12-09_01-00011.txt',\n",
      "     'KB_JB838_1959-12-13_01-00008.txt',\n",
      "     'KB_JB838_1959-12-27_01-00006.txt',\n",
      "     'KB_JB838_1959-12-29_01-00012.txt'],\n",
      " 1: ['KB_JB838_1950-01-22_01-00014.txt',\n",
      "     'KB_JB838_1950-02-16_01-00014.txt',\n",
      "     'KB_JB838_1950-02-25_01-00013.txt',\n",
      "     'KB_JB838_1950-06-04_01-00016.txt',\n",
      "     'KB_JB838_1950-06-11_01-00015.txt',\n",
      "     'KB_JB838_1950-09-08_01-00012.txt',\n",
      "     'KB_JB838_1950-09-09_01-00011.txt',\n",
      "     'KB_JB838_1950-10-05_01-00012.txt',\n",
      "     'KB_JB838_1950-10-15_01-00018.txt',\n",
      "     'KB_JB838_1950-10-27_01-00014.txt',\n",
      "     'KB_JB838_1950-12-28_01-00012.txt',\n",
      "     'KB_JB838_1950-12-29_01-00014.txt',\n",
      "     'KB_JB838_1951-01-16_01-00010.txt',\n",
      "     'KB_JB838_1951-01-23_01-00011.txt',\n",
      "     'KB_JB838_1951-03-22_01-00012.txt',\n",
      "     'KB_JB838_1951-04-15_01-00019.txt',\n",
      "     'KB_JB838_1951-05-23_01-00012.txt',\n",
      "     'KB_JB838_1951-07-13_01-00013.txt',\n",
      "     'KB_JB838_1951-09-29_01-00014.txt',\n",
      "     'KB_JB838_1951-11-30_01-00012.txt',\n",
      "     'KB_JB838_1951-12-20_01-00016.txt',\n",
      "     'KB_JB838_1952-02-05_01-00012.txt',\n",
      "     'KB_JB838_1952-02-14_01-00011.txt',\n",
      "     'KB_JB838_1952-04-06_01-00019.txt',\n",
      "     'KB_JB838_1952-05-13_01-00012.txt',\n",
      "     'KB_JB838_1952-06-11_01-00011.txt',\n",
      "     'KB_JB838_1952-06-13_01-00012.txt',\n",
      "     'KB_JB838_1952-06-21_01-00011.txt',\n",
      "     'KB_JB838_1952-07-11_01-00012.txt',\n",
      "     'KB_JB838_1952-10-16_01-00013.txt',\n",
      "     'KB_JB838_1952-10-17_01-00013.txt',\n",
      "     'KB_JB838_1952-12-11_01-00011.txt',\n",
      "     'KB_JB838_1953-02-01_01-00020.txt',\n",
      "     'KB_JB838_1953-02-06_01-00014.txt',\n",
      "     'KB_JB838_1953-02-17_01-00011.txt',\n",
      "     'KB_JB838_1953-04-29_01-00012.txt',\n",
      "     'KB_JB838_1953-05-03_01-00020.txt',\n",
      "     'KB_JB838_1953-05-08_01-00014.txt',\n",
      "     'KB_JB838_1953-07-05_01-00019.txt',\n",
      "     'KB_JB838_1953-07-12_01-00015.txt',\n",
      "     'KB_JB838_1953-10-17_01-00017.txt',\n",
      "     'KB_JB838_1953-10-29_01-00015.txt',\n",
      "     'KB_JB838_1954-01-12_01-00012.txt',\n",
      "     'KB_JB838_1954-03-05_01-00014.txt',\n",
      "     'KB_JB838_1954-04-11_01-00017.txt',\n",
      "     'KB_JB838_1954-06-23_01-00012.txt',\n",
      "     'KB_JB838_1954-07-02_01-00013.txt',\n",
      "     'KB_JB838_1954-07-27_01-00012.txt',\n",
      "     'KB_JB838_1954-08-07_01-00012.txt',\n",
      "     'KB_JB838_1954-10-02_01-00016.txt',\n",
      "     'KB_JB838_1954-10-14_01-00019.txt',\n",
      "     'KB_JB838_1954-10-17_01-00017.txt',\n",
      "     'KB_JB838_1955-01-18_01-00011.txt',\n",
      "     'KB_JB838_1955-02-16_01-00014.txt',\n",
      "     'KB_JB838_1955-03-03_01-00015.txt',\n",
      "     'KB_JB838_1955-03-08_01-00012.txt',\n",
      "     'KB_JB838_1955-06-11_01-00019.txt',\n",
      "     'KB_JB838_1955-08-25_01-00016.txt',\n",
      "     'KB_JB838_1955-09-01_01-00015.txt',\n",
      "     'KB_JB838_1955-09-04_01-00017.txt',\n",
      "     'KB_JB838_1955-09-07_01-00017.txt',\n",
      "     'KB_JB838_1955-09-08_01-00018.txt',\n",
      "     'KB_JB838_1955-09-09_01-00016.txt',\n",
      "     'KB_JB838_1955-10-19_01-00016.txt',\n",
      "     'KB_JB838_1955-10-23_01-00019.txt',\n",
      "     'KB_JB838_1955-11-17_01-00018.txt',\n",
      "     'KB_JB838_1956-02-25_01-00016.txt',\n",
      "     'KB_JB838_1956-03-03_01-00019.txt',\n",
      "     'KB_JB838_1956-03-25_01-00018.txt',\n",
      "     'KB_JB838_1956-04-08_01-00018.txt',\n",
      "     'KB_JB838_1956-04-14_01-00018.txt',\n",
      "     'KB_JB838_1956-04-17_01-00015.txt',\n",
      "     'KB_JB838_1956-04-26_01-00021.txt',\n",
      "     'KB_JB838_1956-05-02_01-00019.txt',\n",
      "     'KB_JB838_1956-06-09_01-00020.txt',\n",
      "     'KB_JB838_1956-08-17_01-00016.txt',\n",
      "     'KB_JB838_1956-09-02_01-00019.txt',\n",
      "     'KB_JB838_1956-09-19_01-00016.txt',\n",
      "     'KB_JB838_1956-11-13_01-00014.txt',\n",
      "     'KB_JB838_1956-12-20_01-00019.txt',\n",
      "     'KB_JB838_1956-12-28_01-00016.txt',\n",
      "     'KB_JB838_1957-02-20_01-00015.txt',\n",
      "     'KB_JB838_1957-02-27_01-00014.txt',\n",
      "     'KB_JB838_1957-02-28_01-00019.txt',\n",
      "     'KB_JB838_1957-07-25_01-00016.txt',\n",
      "     'KB_JB838_1957-08-20_01-00012.txt',\n",
      "     'KB_JB838_1957-10-11_01-00018.txt',\n",
      "     'KB_JB838_1957-11-14_01-00018.txt',\n",
      "     'KB_JB838_1957-12-07_01-00019.txt',\n",
      "     'KB_JB838_1958-03-16_01-00018.txt',\n",
      "     'KB_JB838_1958-03-16_01-00020.txt',\n",
      "     'KB_JB838_1958-05-09_01-00018.txt',\n",
      "     'KB_JB838_1958-05-31_01-00021.txt',\n",
      "     'KB_JB838_1958-06-17_01-00013.txt',\n",
      "     'KB_JB838_1958-06-29_01-00018.txt',\n",
      "     'KB_JB838_1958-06-29_01-00020.txt',\n",
      "     'KB_JB838_1958-08-10_01-00015.txt',\n",
      "     'KB_JB838_1958-08-24_01-00018.txt',\n",
      "     'KB_JB838_1958-09-07_01-00020.txt',\n",
      "     'KB_JB838_1958-10-19_01-00020.txt',\n",
      "     'KB_JB838_1958-11-07_01-00016.txt',\n",
      "     'KB_JB838_1958-12-03_01-00017.txt',\n",
      "     'KB_JB838_1958-12-04_01-00019.txt',\n",
      "     'KB_JB838_1959-02-05_01-00018.txt',\n",
      "     'KB_JB838_1959-02-24_01-00017.txt',\n",
      "     'KB_JB838_1959-05-29_01-00017.txt',\n",
      "     'KB_JB838_1959-06-05_01-00019.txt',\n",
      "     'KB_JB838_1959-06-05_01-00021.txt',\n",
      "     'KB_JB838_1959-06-06_01-00017.txt',\n",
      "     'KB_JB838_1959-06-14_01-00021.txt',\n",
      "     'KB_JB838_1959-08-30_01-00017.txt',\n",
      "     'KB_JB838_1959-09-13_01-00020.txt',\n",
      "     'KB_JB838_1959-09-22_01-00018.txt',\n",
      "     'KB_JB838_1959-10-10_01-00020.txt'],\n",
      " 2: ['KB_JB838_1950-03-29_01-00008.txt',\n",
      "     'KB_JB838_1950-04-21_01-00010.txt',\n",
      "     'KB_JB838_1950-05-20_01-00016.txt',\n",
      "     'KB_JB838_1950-06-24_01-00011.txt',\n",
      "     'KB_JB838_1950-06-25_01-00013.txt',\n",
      "     'KB_JB838_1950-07-08_01-00009.txt',\n",
      "     'KB_JB838_1950-09-21_01-00009.txt',\n",
      "     'KB_JB838_1950-10-15_01-00016.txt',\n",
      "     'KB_JB838_1950-11-04_01-00012.txt',\n",
      "     'KB_JB838_1950-12-14_01-00011.txt',\n",
      "     'KB_JB838_1951-01-04_01-00009.txt',\n",
      "     'KB_JB838_1951-01-13_01-00012.txt',\n",
      "     'KB_JB838_1951-01-25_01-00010.txt',\n",
      "     'KB_JB838_1951-02-03_01-00013.txt',\n",
      "     'KB_JB838_1951-02-14_01-00009.txt',\n",
      "     'KB_JB838_1951-02-24_01-00011.txt',\n",
      "     'KB_JB838_1951-03-06_01-00010.txt',\n",
      "     'KB_JB838_1951-04-11_01-00010.txt',\n",
      "     'KB_JB838_1951-05-13_01-00015.txt',\n",
      "     'KB_JB838_1951-05-24_01-00009.txt',\n",
      "     'KB_JB838_1951-05-26_01-00011.txt',\n",
      "     'KB_JB838_1951-05-31_01-00010.txt',\n",
      "     'KB_JB838_1951-06-24_01-00016.txt',\n",
      "     'KB_JB838_1951-07-04_01-00009.txt',\n",
      "     'KB_JB838_1951-07-13_01-00011.txt',\n",
      "     'KB_JB838_1951-07-13_01-00012.txt',\n",
      "     'KB_JB838_1951-08-28_01-00009.txt',\n",
      "     'KB_JB838_1951-11-13_01-00011.txt',\n",
      "     'KB_JB838_1951-12-28_01-00010.txt',\n",
      "     'KB_JB838_1952-01-13_01-00013.txt',\n",
      "     'KB_JB838_1952-01-24_01-00013.txt',\n",
      "     'KB_JB838_1952-02-05_01-00010.txt',\n",
      "     'KB_JB838_1952-02-29_01-00010.txt',\n",
      "     'KB_JB838_1952-05-14_01-00010.txt',\n",
      "     'KB_JB838_1952-06-04_01-00008.txt',\n",
      "     'KB_JB838_1952-06-21_01-00009.txt',\n",
      "     'KB_JB838_1952-09-12_01-00009.txt',\n",
      "     'KB_JB838_1952-09-17_01-00010.txt',\n",
      "     'KB_JB838_1952-11-14_01-00012.txt',\n",
      "     'KB_JB838_1952-11-16_01-00017.txt',\n",
      "     'KB_JB838_1952-11-30_01-00014.txt',\n",
      "     'KB_JB838_1953-01-24_01-00011.txt',\n",
      "     'KB_JB838_1953-01-28_01-00010.txt',\n",
      "     'KB_JB838_1953-02-20_01-00012.txt',\n",
      "     'KB_JB838_1953-05-31_01-00014.txt',\n",
      "     'KB_JB838_1953-06-02_01-00010.txt',\n",
      "     'KB_JB838_1953-07-11_01-00012.txt',\n",
      "     'KB_JB838_1953-07-18_01-00011.txt',\n",
      "     'KB_JB838_1953-08-02_01-00011.txt',\n",
      "     'KB_JB838_1953-10-30_01-00012.txt',\n",
      "     'KB_JB838_1954-01-03_01-00016.txt',\n",
      "     'KB_JB838_1954-01-17_01-00012.txt',\n",
      "     'KB_JB838_1954-01-24_01-00015.txt',\n",
      "     'KB_JB838_1954-02-21_01-00013.txt',\n",
      "     'KB_JB838_1954-04-23_01-00011.txt',\n",
      "     'KB_JB838_1954-05-12_01-00009.txt',\n",
      "     'KB_JB838_1954-06-12_01-00015.txt',\n",
      "     'KB_JB838_1954-06-20_01-00017.txt',\n",
      "     'KB_JB838_1954-07-13_01-00011.txt',\n",
      "     'KB_JB838_1954-10-07_01-00012.txt',\n",
      "     'KB_JB838_1954-10-27_01-00013.txt',\n",
      "     'KB_JB838_1954-10-31_01-00016.txt',\n",
      "     'KB_JB838_1954-11-21_01-00016.txt',\n",
      "     'KB_JB838_1954-11-28_01-00016.txt',\n",
      "     'KB_JB838_1955-01-18_01-00010.txt',\n",
      "     'KB_JB838_1955-02-23_01-00011.txt',\n",
      "     'KB_JB838_1955-09-29_01-00018.txt',\n",
      "     'KB_JB838_1955-10-15_01-00011.txt',\n",
      "     'KB_JB838_1955-12-16_01-00016.txt',\n",
      "     'KB_JB838_1956-03-01_01-00016.txt',\n",
      "     'KB_JB838_1956-05-10_01-00017.txt',\n",
      "     'KB_JB838_1956-05-30_01-00013.txt',\n",
      "     'KB_JB838_1956-06-10_01-00014.txt',\n",
      "     'KB_JB838_1956-06-15_01-00015.txt',\n",
      "     'KB_JB838_1956-06-22_01-00016.txt',\n",
      "     'KB_JB838_1956-07-10_01-00012.txt',\n",
      "     'KB_JB838_1956-08-28_01-00009.txt',\n",
      "     'KB_JB838_1956-09-27_01-00014.txt',\n",
      "     'KB_JB838_1956-10-24_01-00013.txt',\n",
      "     'KB_JB838_1956-11-15_01-00014.txt',\n",
      "     'KB_JB838_1956-11-16_01-00014.txt',\n",
      "     'KB_JB838_1956-11-22_01-00014.txt',\n",
      "     'KB_JB838_1957-02-06_01-00013.txt',\n",
      "     'KB_JB838_1957-02-27_01-00011.txt',\n",
      "     'KB_JB838_1957-03-02_01-00013.txt',\n",
      "     'KB_JB838_1957-03-14_01-00015.txt',\n",
      "     'KB_JB838_1957-06-02_01-00015.txt',\n",
      "     'KB_JB838_1957-06-02_01-00016.txt',\n",
      "     'KB_JB838_1957-06-06_01-00017.txt',\n",
      "     'KB_JB838_1957-06-13_01-00016.txt',\n",
      "     'KB_JB838_1957-07-09_01-00011.txt',\n",
      "     'KB_JB838_1957-11-07_01-00017.txt',\n",
      "     'KB_JB838_1957-11-28_01-00015.txt',\n",
      "     'KB_JB838_1957-12-15_01-00015.txt',\n",
      "     'KB_JB838_1958-04-10_01-00015.txt',\n",
      "     'KB_JB838_1958-05-08_01-00016.txt',\n",
      "     'KB_JB838_1958-05-14_01-00014.txt',\n",
      "     'KB_JB838_1958-06-19_01-00017.txt',\n",
      "     'KB_JB838_1958-06-29_01-00016.txt',\n",
      "     'KB_JB838_1958-09-18_01-00017.txt',\n",
      "     'KB_JB838_1958-12-17_01-00014.txt',\n",
      "     'KB_JB838_1959-02-19_01-00016.txt',\n",
      "     'KB_JB838_1959-03-20_01-00018.txt',\n",
      "     'KB_JB838_1959-05-06_01-00014.txt',\n",
      "     'KB_JB838_1959-06-26_01-00017.txt',\n",
      "     'KB_JB838_1959-07-16_01-00016.txt',\n",
      "     'KB_JB838_1959-10-01_01-00016.txt',\n",
      "     'KB_JB838_1959-11-05_01-00019.txt',\n",
      "     'KB_JB838_1959-11-11_01-00017.txt'],\n",
      " 3: ['KB_JB838_1950-01-07_01-00013.txt',\n",
      "     'KB_JB838_1950-02-18_01-00014.txt',\n",
      "     'KB_JB838_1950-02-28_01-00012.txt',\n",
      "     'KB_JB838_1950-03-03_01-00013.txt',\n",
      "     'KB_JB838_1950-03-15_01-00012.txt',\n",
      "     'KB_JB838_1950-04-25_01-00011.txt',\n",
      "     'KB_JB838_1950-05-24_01-00014.txt',\n",
      "     'KB_JB838_1950-06-14_01-00014.txt',\n",
      "     'KB_JB838_1950-07-02_01-00018.txt',\n",
      "     'KB_JB838_1950-11-24_01-00015.txt',\n",
      "     'KB_JB838_1950-11-28_01-00012.txt',\n",
      "     'KB_JB838_1950-11-29_01-00013.txt',\n",
      "     'KB_JB838_1950-12-20_01-00013.txt',\n",
      "     'KB_JB838_1950-12-24_01-00017.txt',\n",
      "     'KB_JB838_1951-03-06_01-00014.txt',\n",
      "     'KB_JB838_1951-08-19_01-00015.txt',\n",
      "     'KB_JB838_1951-08-24_01-00013.txt',\n",
      "     'KB_JB838_1951-09-08_01-00019.txt',\n",
      "     'KB_JB838_1951-09-09_01-00020.txt',\n",
      "     'KB_JB838_1951-09-13_01-00014.txt',\n",
      "     'KB_JB838_1951-11-22_01-00015.txt',\n",
      "     'KB_JB838_1951-12-16_01-00024.txt',\n",
      "     'KB_JB838_1951-12-20_01-00015.txt',\n",
      "     'KB_JB838_1952-01-27_01-00023.txt',\n",
      "     'KB_JB838_1952-02-26_01-00012.txt',\n",
      "     'KB_JB838_1952-03-02_01-00022.txt',\n",
      "     'KB_JB838_1952-04-11_01-00013.txt',\n",
      "     'KB_JB838_1952-07-30_01-00014.txt',\n",
      "     'KB_JB838_1952-09-18_01-00015.txt',\n",
      "     'KB_JB838_1952-11-12_01-00014.txt',\n",
      "     'KB_JB838_1952-11-22_01-00018.txt',\n",
      "     'KB_JB838_1953-01-23_01-00014.txt',\n",
      "     'KB_JB838_1953-04-09_01-00015.txt',\n",
      "     'KB_JB838_1953-04-15_01-00016.txt',\n",
      "     'KB_JB838_1953-05-20_01-00015.txt',\n",
      "     'KB_JB838_1953-07-19_01-00017.txt',\n",
      "     'KB_JB838_1953-09-18_01-00015.txt',\n",
      "     'KB_JB838_1953-09-29_01-00013.txt',\n",
      "     'KB_JB838_1953-10-15_01-00018.txt',\n",
      "     'KB_JB838_1954-01-27_01-00016.txt',\n",
      "     'KB_JB838_1954-03-11_01-00018.txt',\n",
      "     'KB_JB838_1954-03-25_01-00016.txt',\n",
      "     'KB_JB838_1954-04-18_01-00022.txt',\n",
      "     'KB_JB838_1954-06-05_01-00017.txt',\n",
      "     'KB_JB838_1954-07-08_01-00015.txt',\n",
      "     'KB_JB838_1954-07-24_01-00015.txt',\n",
      "     'KB_JB838_1954-11-25_01-00020.txt',\n",
      "     'KB_JB838_1954-12-30_01-00016.txt',\n",
      "     'KB_JB838_1955-02-17_01-00020.txt',\n",
      "     'KB_JB838_1955-03-12_01-00020.txt',\n",
      "     'KB_JB838_1955-04-03_01-00022.txt',\n",
      "     'KB_JB838_1955-05-08_01-00021.txt',\n",
      "     'KB_JB838_1955-06-23_01-00019.txt',\n",
      "     'KB_JB838_1955-07-12_01-00015.txt',\n",
      "     'KB_JB838_1955-07-26_01-00013.txt',\n",
      "     'KB_JB838_1955-08-06_01-00016.txt',\n",
      "     'KB_JB838_1955-10-27_01-00024.txt',\n",
      "     'KB_JB838_1957-01-10_01-00020.txt',\n",
      "     'KB_JB838_1957-05-14_01-00018.txt',\n",
      "     'KB_JB838_1957-11-05_01-00015.txt',\n",
      "     'KB_JB838_1958-01-25_01-00019.txt',\n",
      "     'KB_JB838_1958-02-18_01-00015.txt',\n",
      "     'KB_JB838_1958-03-20_01-00023.txt',\n",
      "     'KB_JB838_1958-03-30_01-00023.txt',\n",
      "     'KB_JB838_1958-08-17_01-00017.txt',\n",
      "     'KB_JB838_1958-09-30_01-00015.txt',\n",
      "     'KB_JB838_1958-11-04_01-00015.txt',\n",
      "     'KB_JB838_1959-01-25_01-00024.txt',\n",
      "     'KB_JB838_1959-07-04_01-00021.txt',\n",
      "     'KB_JB838_1959-07-19_01-00019.txt',\n",
      "     'KB_JB838_1959-11-04_01-00019.txt',\n",
      "     'KB_JB838_1959-12-19_01-00023.txt']}\n"
     ]
    }
   ],
   "source": [
    "pprint(dict(clustering))"
   ]
  },
  {
   "cell_type": "markdown",
   "metadata": {},
   "source": [
    "## Visualiser les clusters"
   ]
  },
  {
   "cell_type": "markdown",
   "metadata": {},
   "source": [
    "### Réduire les vecteurs à 2 dimensions à l'aide de l'algorithme PCA\n",
    "Cette étape est nécessaire afin de visualiser les documents dans un espace 2D\n",
    "\n",
    "https://fr.wikipedia.org/wiki/Analyse_en_composantes_principales"
   ]
  },
  {
   "cell_type": "code",
   "execution_count": 40,
   "metadata": {},
   "outputs": [],
   "source": [
    "pca = PCA(n_components=2)\n",
    "reduced_vectors = pca.fit_transform(tfidf_vectors.toarray())"
   ]
  },
  {
   "cell_type": "code",
   "execution_count": 41,
   "metadata": {},
   "outputs": [
    {
     "data": {
      "text/plain": [
       "array([[-0.33125332,  0.10377904],\n",
       "       [ 0.11728739, -0.30414864],\n",
       "       [-0.23407133, -0.03318491],\n",
       "       [-0.05151136, -0.10579796],\n",
       "       [ 0.59114565,  0.52727133],\n",
       "       [-0.18864328, -0.03638755],\n",
       "       [ 0.33812666,  0.06424089],\n",
       "       [-0.11429092, -0.04020218],\n",
       "       [-0.14801612, -0.03590328],\n",
       "       [ 0.17127098, -0.16138038]])"
      ]
     },
     "execution_count": 41,
     "metadata": {},
     "output_type": "execute_result"
    }
   ],
   "source": [
    "reduced_vectors[:10]"
   ]
  },
  {
   "cell_type": "markdown",
   "metadata": {},
   "source": [
    "### Générer le plot"
   ]
  },
  {
   "cell_type": "code",
   "execution_count": 42,
   "metadata": {},
   "outputs": [
    {
     "data": {
      "text/plain": [
       "<matplotlib.legend.Legend at 0x2288e5a52d0>"
      ]
     },
     "execution_count": 42,
     "metadata": {},
     "output_type": "execute_result"
    },
    {
     "data": {
      "image/png": "[encoded data removed]",
      "text/plain": [
       "<Figure size 1000x1000 with 1 Axes>"
      ]
     },
     "metadata": {},
     "output_type": "display_data"
    }
   ],
   "source": [
    "x_axis = reduced_vectors[:, 0]\n",
    "y_axis = reduced_vectors[:, 1]\n",
    "\n",
    "plt.figure(figsize=(10,10))\n",
    "scatter = plt.scatter(x_axis, y_axis, s=100, c=clusters)\n",
    "\n",
    "# Ajouter les centroïdes\n",
    "centroids = pca.transform(km_model.cluster_centers_)\n",
    "plt.scatter(centroids[:, 0], centroids[:, 1],  marker = \"x\", s=100, linewidths = 2, color='black')\n",
    "\n",
    "# Ajouter la légende\n",
    "plt.legend(handles=scatter.legend_elements()[0], labels=set(clusters), title=\"Clusters\")"
   ]
  }
 ],
 "metadata": {
  "kernelspec": {
   "display_name": "Python 3.10.5 ('tac_venv': venv)",
   "language": "python",
   "name": "python3"
  },
  "language_info": {
   "codemirror_mode": {
    "name": "ipython",
    "version": 3
   },
   "file_extension": ".py",
   "mimetype": "text/x-python",
   "name": "python",
   "nbconvert_exporter": "python",
   "pygments_lexer": "ipython3",
   "version": "3.11.6"
  },
  "vscode": {
   "interpreter": {
    "hash": "b1932ab1d169b4769d1550e799423b6477588e745f266d79d9004c136c81607e"
   }
  }
 },
 "nbformat": 4,
 "nbformat_minor": 4
}
