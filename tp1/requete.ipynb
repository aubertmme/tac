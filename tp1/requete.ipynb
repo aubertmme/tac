{
 "cells": [
  {
   "cell_type": "code",
   "execution_count": 10,
   "metadata": {},
   "outputs": [
    {
     "name": "stdout",
     "output_type": "stream",
     "text": [
      "\n",
      "2 Marie Curie articles found\n",
      "\n",
      "[{'item': {'type': 'uri', 'value': 'http://www.wikidata.org/entity/Q26769586'}, 'itemLabel': {'type': 'literal', 'value': 'Q26769586'}}, {'item': {'type': 'uri', 'value': 'http://www.wikidata.org/entity/Q7186'}, 'itemLabel': {'type': 'literal', 'value': 'Q7186'}}]\n"
     ]
    }
   ],
   "source": [
    "from datetime import datetime as dt \n",
    "from SPARQLWrapper import SPARQLWrapper, JSON \n",
    "\n",
    "# Retrieve results from SPARQL \n",
    "endpoint = \"https://query.wikidata.org/bigdata/namespace/wdq/sparql\" \n",
    "sparql = SPARQLWrapper(endpoint) \n",
    "\n",
    "statement = \"\"\"\n",
    "SELECT DISTINCT ?item ?itemLabel WHERE { \n",
    "\n",
    "  SERVICE wikibase:label { bd:serviceParam wikibase:language \"[AUTO_LANGUAGE]\". } \n",
    "\n",
    "  { SELECT DISTINCT ?item WHERE {\n",
    "    ?item p:P734 ?statement0. \n",
    "    ?statement0 (ps:P734/(wdt:P279*)) wd:Q21429443.\n",
    "    ?item p:P735 ?statement1.\n",
    "    ?statement1 (ps:P735/(wdt:P279*)) wd:Q632104.\n",
    "   } \n",
    "\n",
    "  LIMIT 100 \n",
    "  } \n",
    "} \n",
    " \n",
    "ORDER BY ?itemLabel\n",
    "\"\"\"\n",
    "\n",
    "sparql.setQuery(statement)\n",
    "sparql.setReturnFormat(JSON)\n",
    "results = sparql.query().convert()\n",
    "\n",
    "rows = results['results']['bindings']\n",
    "print(f\"\\n{len(rows)} Marie Curie articles found\\n\")\n",
    "print(rows[:10])"
   ]
  }
 ],
 "metadata": {
  "kernelspec": {
   "display_name": "Python 3",
   "language": "python",
   "name": "python3"
  },
  "language_info": {
   "codemirror_mode": {
    "name": "ipython",
    "version": 3
   },
   "file_extension": ".py",
   "mimetype": "text/x-python",
   "name": "python",
   "nbconvert_exporter": "python",
   "pygments_lexer": "ipython3",
   "version": "3.11.6"
  }
 },
 "nbformat": 4,
 "nbformat_minor": 2
}
