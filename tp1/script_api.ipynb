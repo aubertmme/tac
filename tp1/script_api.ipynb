{
 "cells": [
  {
   "cell_type": "code",
   "execution_count": 3,
   "metadata": {},
   "outputs": [
    {
     "name": "stdout",
     "output_type": "stream",
     "text": [
      "{'d': [{'i': {'height': 500, 'imageUrl': 'https://m.media-amazon.com/images/M/MV5BMjI4NzAwNDUwNl5BMl5BanBnXkFtZTgwMTA1MjkyMTE@._V1_.jpg', 'width': 328}, 'id': 'tt0036126', 'l': 'Madame Curie', 'q': 'feature', 'qid': 'movie', 'rank': 70822, 's': 'Greer Garson, Walter Pidgeon', 'y': 1943}, {'i': {'height': 3508, 'imageUrl': 'https://m.media-amazon.com/images/M/MV5BNGQ3ZGZiMzQtMzkwYS00NzY1LTgxNjUtZjYyYzMxOWU0ZGZkXkEyXkFqcGdeQXVyMjQ3NzUxOTM@._V1_.jpg', 'width': 2480}, 'id': 'tt5705058', 'l': 'Marie Curie: The Courage of Knowledge', 'q': 'feature', 'qid': 'movie', 'rank': 72091, 's': 'Karolina Gruszka, Arieh Worthalter', 'y': 2016}, {'i': {'height': 993, 'imageUrl': 'https://m.media-amazon.com/images/M/MV5BMDFjY2U1MDQtZjI0NC00YzU4LWE5MGEtYTNmYTk1NWNkMzRiXkEyXkFqcGdeQXVyMTc4MzI2NQ@@._V1_.jpg', 'width': 744}, 'id': 'nm1792513', 'l': 'Marie Curie', 'rank': 206337, 's': 'Self, Kentler Ve Gölgeler (2013)'}, {'i': {'height': 556, 'imageUrl': 'https://m.media-amazon.com/images/M/MV5BMWYxZmJlM2QtOWZkNy00OGE1LWJhM2MtYTU3Nzg3YTJhN2YzL2ltYWdlL2ltYWdlXkEyXkFqcGdeQXVyMTAyNTQ0MTk@._V1_.jpg', 'width': 390}, 'id': 'tt0075534', 'l': 'Marie Curie', 'q': 'TV mini-series', 'qid': 'tvMiniSeries', 'rank': 174749, 's': 'Jane Lapotaire, Nigel Hawthorne', 'y': 1977}, {'id': 'nm12090447', 'l': 'Curie Lu', 'rank': 514660, 's': 'Animation Department, One Piece (2022)'}, {'id': 'nm0192694', 'l': 'Ève Curie', 'rank': 519675, 's': 'Writer, Madame Curie (1943)'}, {'i': {'height': 2000, 'imageUrl': 'https://m.media-amazon.com/images/M/MV5BM2Q5Y2ZmMzctNzgwOC00YTVhLWFmMTctMTQwNzI5MDk1NGQ2XkEyXkFqcGdeQXVyMTQ1MDg5ODQ@._V1_.jpg', 'width': 1417}, 'id': 'tt7712252', 'l': 'The Curie Case', 'q': 'feature', 'qid': 'movie', 'rank': 406176, 's': 'Martin Paunov, Zornitsa Ivanova', 'y': 2018}, {'i': {'height': 3861, 'imageUrl': 'https://m.media-amazon.com/images/M/MV5BZWE0YWNkNjUtMTJjYi00YzdjLTk0YmYtODI0OTFjZGU5MmU2XkEyXkFqcGdeQXVyNjMwODA3MjM@._V1_.jpg', 'width': 3104}, 'id': 'nm7623776', 'l': 'Angel Bismark Curiel', 'rank': 32288, 's': 'Actor, Pose (2018-2021)'}], 'q': 'curie', 'v': 1}\n"
     ]
    }
   ],
   "source": [
    "import requests\n",
    "\n",
    "url = \"https://imdb8.p.rapidapi.com/auto-complete\"\n",
    "\n",
    "querystring = {\"q\":\"curie\"}\n",
    "\n",
    "headers = {\n",
    "\t\"X-RapidAPI-Key\": \"f5b6b86e36msh28ec08f038e7f3dp17db49jsn2b8ccedeaffa\",\n",
    "\t\"X-RapidAPI-Host\": \"imdb8.p.rapidapi.com\"\n",
    "}\n",
    "\n",
    "response = requests.get(url, headers=headers, params=querystring)\n",
    "\n",
    "print(response.json())"
   ]
  }
 ],
 "metadata": {
  "kernelspec": {
   "display_name": "Python 3",
   "language": "python",
   "name": "python3"
  },
  "language_info": {
   "codemirror_mode": {
    "name": "ipython",
    "version": 3
   },
   "file_extension": ".py",
   "mimetype": "text/x-python",
   "name": "python",
   "nbconvert_exporter": "python",
   "pygments_lexer": "ipython3",
   "version": "3.11.6"
  }
 },
 "nbformat": 4,
 "nbformat_minor": 2
}
